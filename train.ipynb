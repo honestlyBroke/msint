{
  "nbformat": 4,
  "nbformat_minor": 0,
  "metadata": {
    "colab": {
      "provenance": []
    },
    "kernelspec": {
      "name": "python3",
      "display_name": "Python 3"
    },
    "language_info": {
      "name": "python"
    }
  },
  "cells": [
    {
      "cell_type": "code",
      "execution_count": 13,
      "metadata": {
        "id": "IcuZ_jaFcC04"
      },
      "outputs": [],
      "source": [
        "# importing libraries\n",
        "import tensorflow\n",
        "from tensorflow import keras\n",
        "from tensorflow.keras import Sequential\n",
        "from tensorflow.keras.layers import Dense, Flatten"
      ]
    },
    {
      "cell_type": "code",
      "source": [
        "# Loading the MNIST dataset\n",
        "(X_train, y_train), (X_test, y_test) = keras.datasets.mnist.load_data()"
      ],
      "metadata": {
        "id": "ByMdEwDPcLGA"
      },
      "execution_count": 5,
      "outputs": []
    },
    {
      "cell_type": "code",
      "source": [
        "# Creating the model\n",
        "model = Sequential()\n",
        "model.add(Flatten(input_shape=(28, 28)))\n",
        "model.add(Dense(128, activation='relu'))\n",
        "model.add(Dense(10, activation='softmax'))"
      ],
      "metadata": {
        "id": "8VHj6e4ucj0U"
      },
      "execution_count": 6,
      "outputs": []
    },
    {
      "cell_type": "code",
      "source": [
        "# Compiling the model\n",
        "model.compile(loss='sparse_categorical_crossentropy', optimizer='Adam', metrics=['accuracy'])\n"
      ],
      "metadata": {
        "id": "asv9qyb0cv8x"
      },
      "execution_count": 8,
      "outputs": []
    },
    {
      "cell_type": "code",
      "source": [
        "# Training the model and store the training history\n",
        "model.fit(X_train, y_train, epochs=10, validation_split=0.2)"
      ],
      "metadata": {
        "colab": {
          "base_uri": "https://localhost:8080/"
        },
        "id": "C5He2pWYc1PK",
        "outputId": "bb584617-4677-4aec-bd5c-2cdba27eee09"
      },
      "execution_count": 9,
      "outputs": [
        {
          "output_type": "stream",
          "name": "stdout",
          "text": [
            "Epoch 1/10\n",
            "1500/1500 [==============================] - 9s 6ms/step - loss: 3.2993 - accuracy: 0.8614 - val_loss: 0.5890 - val_accuracy: 0.8925\n",
            "Epoch 2/10\n",
            "1500/1500 [==============================] - 6s 4ms/step - loss: 0.4540 - accuracy: 0.9044 - val_loss: 0.4329 - val_accuracy: 0.9160\n",
            "Epoch 3/10\n",
            "1500/1500 [==============================] - 8s 6ms/step - loss: 0.3289 - accuracy: 0.9218 - val_loss: 0.3380 - val_accuracy: 0.9225\n",
            "Epoch 4/10\n",
            "1500/1500 [==============================] - 6s 4ms/step - loss: 0.2742 - accuracy: 0.9315 - val_loss: 0.2708 - val_accuracy: 0.9350\n",
            "Epoch 5/10\n",
            "1500/1500 [==============================] - 7s 5ms/step - loss: 0.2612 - accuracy: 0.9357 - val_loss: 0.3833 - val_accuracy: 0.9270\n",
            "Epoch 6/10\n",
            "1500/1500 [==============================] - 6s 4ms/step - loss: 0.2270 - accuracy: 0.9435 - val_loss: 0.2374 - val_accuracy: 0.9342\n",
            "Epoch 7/10\n",
            "1500/1500 [==============================] - 7s 5ms/step - loss: 0.2135 - accuracy: 0.9441 - val_loss: 0.2574 - val_accuracy: 0.9488\n",
            "Epoch 8/10\n",
            "1500/1500 [==============================] - 6s 4ms/step - loss: 0.2107 - accuracy: 0.9471 - val_loss: 0.2610 - val_accuracy: 0.9478\n",
            "Epoch 9/10\n",
            "1500/1500 [==============================] - 7s 5ms/step - loss: 0.2044 - accuracy: 0.9511 - val_loss: 0.3020 - val_accuracy: 0.9450\n",
            "Epoch 10/10\n",
            "1500/1500 [==============================] - 6s 4ms/step - loss: 0.1839 - accuracy: 0.9542 - val_loss: 0.2763 - val_accuracy: 0.9478\n"
          ]
        },
        {
          "output_type": "execute_result",
          "data": {
            "text/plain": [
              "<keras.src.callbacks.History at 0x7b4ed970fa60>"
            ]
          },
          "metadata": {},
          "execution_count": 9
        }
      ]
    },
    {
      "cell_type": "code",
      "source": [
        "# Evaluating the model on test data\n",
        "model.evaluate(X_test, y_test)"
      ],
      "metadata": {
        "colab": {
          "base_uri": "https://localhost:8080/"
        },
        "id": "0fqCip26AqBo",
        "outputId": "99f8e030-58cc-42ce-d2e4-582e14b180bc"
      },
      "execution_count": 19,
      "outputs": [
        {
          "output_type": "stream",
          "name": "stdout",
          "text": [
            "313/313 [==============================] - 1s 2ms/step - loss: 0.2766 - accuracy: 0.9495\n"
          ]
        },
        {
          "output_type": "execute_result",
          "data": {
            "text/plain": [
              "[0.2766403555870056, 0.9495000243186951]"
            ]
          },
          "metadata": {},
          "execution_count": 19
        }
      ]
    },
    {
      "cell_type": "code",
      "source": [
        "# Saving the entire model\n",
        "model.save('model')"
      ],
      "metadata": {
        "id": "H7cBddR8Axqf"
      },
      "execution_count": 17,
      "outputs": []
    }
  ]
}